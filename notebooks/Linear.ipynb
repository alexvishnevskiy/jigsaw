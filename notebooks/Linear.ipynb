{
 "cells": [
  {
   "cell_type": "code",
   "execution_count": 1,
   "id": "1e895afe",
   "metadata": {},
   "outputs": [],
   "source": [
    "import sys\n",
    "sys.path.append('../')"
   ]
  },
  {
   "cell_type": "code",
   "execution_count": 2,
   "id": "42a36650",
   "metadata": {
    "collapsed": true
   },
   "outputs": [
    {
     "name": "stderr",
     "output_type": "stream",
     "text": [
      "[nltk_data] Downloading package punkt to /Users/alexander/nltk_data...\n",
      "[nltk_data]   Package punkt is already up-to-date!\n",
      "[nltk_data] Downloading package stopwords to\n",
      "[nltk_data]     /Users/alexander/nltk_data...\n",
      "[nltk_data]   Package stopwords is already up-to-date!\n",
      "[nltk_data] Downloading package punkt to /Users/alexander/nltk_data...\n",
      "[nltk_data]   Package punkt is already up-to-date!\n",
      "[nltk_data] Downloading package punkt to /Users/alexander/nltk_data...\n",
      "[nltk_data]   Package punkt is already up-to-date!\n"
     ]
    },
    {
     "data": {
      "text/plain": [
       "True"
      ]
     },
     "execution_count": 2,
     "metadata": {},
     "output_type": "execute_result"
    }
   ],
   "source": [
    "from jigsaw.models.linear_models.base_model import LinearModel, KernelModel, SVRModel\n",
    "from jigsaw.models.cnn_models.base_model import CnnModel\n",
    "from jigsaw.models.rnn_models.base_model import RnnModel\n",
    "from jigsaw.utils.tokenizer import Tokenizer\n",
    "from box import Box\n",
    "from jigsaw.utils.glove import load_glove\n",
    "from nltk.tokenize import word_tokenize\n",
    "from sklearn.feature_extraction.text import TfidfVectorizer\n",
    "from jigsaw.scripts.training import linear_train\n",
    "from jigsaw.scripts.inference import linear_predict\n",
    "from jigsaw.utils.cleaning import *\n",
    "import nltk\n",
    "import pandas as pd\n",
    "nltk.download('punkt')"
   ]
  },
  {
   "cell_type": "code",
   "execution_count": 57,
   "id": "f9c99296",
   "metadata": {},
   "outputs": [],
   "source": [
    "cfg = {\n",
    "    'seed': 42,\n",
    "    'emb_type': 'fasttext',\n",
    "    'model_type': 'linear',\n",
    "    'project': 'Jigsaw',\n",
    "    'dataset': {\n",
    "        'name': 'toxic-comment-preprocessed',\n",
    "        'more_toxic': 'more_toxic',\n",
    "        'less_toxic': 'less_toxic',\n",
    "        'text_col': 'comment_text',\n",
    "        'target_col': 'y'\n",
    "    },\n",
    "    'cache_features': True,\n",
    "    'alpha': 1,\n",
    "    'ngram_range': (2, 5),\n",
    "    'kernel': 'poly',\n",
    "    'gamma': 'scale',\n",
    "    'degree': 3,\n",
    "    'C': 1,\n",
    "    'max_df': 1,\n",
    "    'min_df': 1,\n",
    "    'emb_size': 100,\n",
    "    'out_channels': 10,\n",
    "    'num_classes': 1,\n",
    "    'load_embeddings': True,\n",
    "    'rnn_embeddings': False,\n",
    "    'freeze_embeddings': True,\n",
    "    'emb_path': '/Users/alexander/Documents/jigsaw/vectors/fast_text/model_100_5.bin',\n",
    "    'save_path': '../models/linear/fasttext/fasttext.joblib',\n",
    "    'sample_submission': '../data/jigsaw-rate-severity/sample_submission.csv',\n",
    "    'output_dir': '.'\n",
    "}\n",
    "cfg = Box(cfg)\n",
    "# t = Tokenizer()\n",
    "# t.fit(train_df)\n",
    "# cfg['tokenizer'] = t"
   ]
  },
  {
   "cell_type": "code",
   "execution_count": 58,
   "id": "2e80ba31",
   "metadata": {},
   "outputs": [],
   "source": [
    "def tfifdf_preprocess(data, col):\n",
    "    data[col] = links_removing(data, col)\n",
    "    data[col] = remove_stopwords(data, col)\n",
    "    data[col] = preprocess_from_kaggle(data, col)\n",
    "    data[col] = preprocess_slang_sub(data, col)\n",
    "    data[col] = lemmatize(data, col)\n",
    "    data[col] = remove_punctuation(data, col)\n",
    "    data[col] = data[col].apply(lambda x: replaceMultiToxicWords(x))\n",
    "    return data"
   ]
  },
  {
   "cell_type": "code",
   "execution_count": 59,
   "id": "529690b2",
   "metadata": {},
   "outputs": [],
   "source": [
    "def preprocess_train(df):\n",
    "    toxic_comment_w = {\n",
    "        'identity_hate': 1.18323494807095,\n",
    "        'insult': 0.3844723322363254,\n",
    "        'obscene': 1.241559480304455,\n",
    "        'severe_toxic': 1.147691258564159,\n",
    "        'threat': 1.273216379557446,\n",
    "        'toxic': 1.966945011013778\n",
    "    }\n",
    "    \n",
    "    for col, v in toxic_comment_w.items():\n",
    "        df[col] *= toxic_comment_w[col]\n",
    "        df['y'] = df[['toxic', 'severe_toxic', 'obscene', 'threat', 'insult', 'identity_hate']].sum(axis=1)\n",
    "        df['y'] = df['y']/df['y'].max()\n",
    "    return df"
   ]
  },
  {
   "cell_type": "code",
   "execution_count": 60,
   "id": "060bc11e",
   "metadata": {},
   "outputs": [],
   "source": [
    "def clean_val(df):\n",
    "  df_new = df.copy()\n",
    "  df_new['pair'] = df_new.apply(lambda x:\" \".join(sorted((x['less_toxic'],\n",
    "                                                  x['more_toxic']))),axis=1)\n",
    "  df_new['pair_hash'] = df_new.pair.apply(lambda x: str(abs(hash(x)) % (10 ** 8)))\n",
    "  del df_new['pair']\n",
    "\n",
    "  df_new['pair_cnt']=df_new.groupby(['pair_hash'])['worker'].transform(lambda x: x.count())\n",
    "\n",
    "  df_new['cnt']=df_new.groupby(['pair_hash', \n",
    "                        'less_toxic',\n",
    "                        'more_toxic'])['worker'].transform(lambda x: x.count())\n",
    "  df_new = df_new[~((df_new.pair_cnt == 3) & (df_new.cnt == 1))][['worker', 'less_toxic', 'more_toxic']]\n",
    "  df_new = df_new.drop_duplicates(subset = ['less_toxic', 'more_toxic'])\n",
    "  df_new.index = range(len(df_new))\n",
    "  return df_new"
   ]
  },
  {
   "cell_type": "code",
   "execution_count": 61,
   "id": "03f78ba2",
   "metadata": {},
   "outputs": [],
   "source": [
    "df = pd.read_csv('../data/jigsaw-rate-severity/validation_data.csv')\n",
    "df = clean_val(df)"
   ]
  },
  {
   "cell_type": "code",
   "execution_count": 62,
   "id": "301cd749",
   "metadata": {},
   "outputs": [],
   "source": [
    "train_df = pd.read_csv('../data/preprocessed_data/jigsaw-toxic-comment_lemmatize.csv')\n",
    "val_df = pd.read_csv('../data/preprocessed_data/validation_data_lemmatize.csv')\n",
    "test_df = pd.read_csv('../data/jigsaw-rate-severity/comments_to_score.csv')"
   ]
  },
  {
   "cell_type": "code",
   "execution_count": 39,
   "id": "21532122",
   "metadata": {
    "collapsed": true
   },
   "outputs": [
    {
     "name": "stderr",
     "output_type": "stream",
     "text": [
      "Global seed set to 42\n"
     ]
    },
    {
     "data": {
      "text/html": [
       "Finishing last run (ID:16qunml0) before initializing another..."
      ],
      "text/plain": [
       "<IPython.core.display.HTML object>"
      ]
     },
     "metadata": {},
     "output_type": "display_data"
    },
    {
     "data": {
      "text/html": [
       "<br/>Waiting for W&B process to finish, PID 63175... <strong style=\"color:green\">(success).</strong>"
      ],
      "text/plain": [
       "<IPython.core.display.HTML object>"
      ]
     },
     "metadata": {},
     "output_type": "display_data"
    },
    {
     "data": {
      "application/vnd.jupyter.widget-view+json": {
       "model_id": "",
       "version_major": 2,
       "version_minor": 0
      },
      "text/plain": [
       "VBox(children=(Label(value=' 0.00MB of 0.00MB uploaded (0.00MB deduped)\\r'), FloatProgress(value=1.0, max=1.0)…"
      ]
     },
     "metadata": {},
     "output_type": "display_data"
    },
    {
     "data": {
      "text/html": [
       "<style>\n",
       "    table.wandb td:nth-child(1) { padding: 0 10px; text-align: right }\n",
       "    .wandb-row { display: flex; flex-direction: row; flex-wrap: wrap; width: 100% }\n",
       "    .wandb-col { display: flex; flex-direction: column; flex-basis: 100%; flex: 1; padding: 10px; }\n",
       "    </style>\n",
       "<div class=\"wandb-row\"><div class=\"wandb-col\">\n",
       "</div><div class=\"wandb-col\">\n",
       "</div></div>\n",
       "Synced 6 W&B file(s), 0 media file(s), 0 artifact file(s) and 0 other file(s)\n",
       "<br/>Synced <strong style=\"color:#cdcd00\">linear__toxic-comment-preprocessed</strong>: <a href=\"https://wandb.ai/sashnevskiy/Jigsaw/runs/16qunml0\" target=\"_blank\">https://wandb.ai/sashnevskiy/Jigsaw/runs/16qunml0</a><br/>\n",
       "Find logs at: <code>./wandb/run-20220207_145154-16qunml0/logs</code><br/>\n"
      ],
      "text/plain": [
       "<IPython.core.display.HTML object>"
      ]
     },
     "metadata": {},
     "output_type": "display_data"
    },
    {
     "data": {
      "text/html": [
       "Successfully finished last run (ID:16qunml0). Initializing new run:<br/>"
      ],
      "text/plain": [
       "<IPython.core.display.HTML object>"
      ]
     },
     "metadata": {},
     "output_type": "display_data"
    },
    {
     "name": "stderr",
     "output_type": "stream",
     "text": [
      "\u001b[34m\u001b[1mwandb\u001b[0m: wandb version 0.12.10 is available!  To upgrade, please run:\n",
      "\u001b[34m\u001b[1mwandb\u001b[0m:  $ pip install wandb --upgrade\n"
     ]
    },
    {
     "data": {
      "text/html": [
       "\n",
       "                    Syncing run <strong><a href=\"https://wandb.ai/sashnevskiy/Jigsaw/runs/1w01mp2e\" target=\"_blank\">linear__toxic-comment-preprocessed</a></strong> to <a href=\"https://wandb.ai/sashnevskiy/Jigsaw\" target=\"_blank\">Weights & Biases</a> (<a href=\"https://docs.wandb.com/integrations/jupyter.html\" target=\"_blank\">docs</a>).<br/>\n",
       "\n",
       "                "
      ],
      "text/plain": [
       "<IPython.core.display.HTML object>"
      ]
     },
     "metadata": {},
     "output_type": "display_data"
    },
    {
     "name": "stderr",
     "output_type": "stream",
     "text": [
      "\u001b[34m\u001b[1mwandb\u001b[0m: Adding directory to artifact (./../models/linear/fasttext)... Done. 0.0s\n"
     ]
    },
    {
     "name": "stdout",
     "output_type": "stream",
     "text": [
      "loading features from cache\n",
      "loading features from cache\n",
      "loading features from cache\n"
     ]
    },
    {
     "data": {
      "text/html": [
       "<br/>Waiting for W&B process to finish, PID 63235... <strong style=\"color:green\">(success).</strong>"
      ],
      "text/plain": [
       "<IPython.core.display.HTML object>"
      ]
     },
     "metadata": {},
     "output_type": "display_data"
    },
    {
     "data": {
      "application/vnd.jupyter.widget-view+json": {
       "model_id": "",
       "version_major": 2,
       "version_minor": 0
      },
      "text/plain": [
       "VBox(children=(Label(value=' 0.00MB of 0.00MB uploaded (0.00MB deduped)\\r'), FloatProgress(value=1.0, max=1.0)…"
      ]
     },
     "metadata": {},
     "output_type": "display_data"
    },
    {
     "data": {
      "text/html": [
       "<style>\n",
       "    table.wandb td:nth-child(1) { padding: 0 10px; text-align: right }\n",
       "    .wandb-row { display: flex; flex-direction: row; flex-wrap: wrap; width: 100% }\n",
       "    .wandb-col { display: flex; flex-direction: column; flex-basis: 100%; flex: 1; padding: 10px; }\n",
       "    </style>\n",
       "<div class=\"wandb-row\"><div class=\"wandb-col\">\n",
       "<h3>Run history:</h3><br/><table class=\"wandb\"><tr><td>val_acc</td><td>▁</td></tr></table><br/></div><div class=\"wandb-col\">\n",
       "</div></div>\n",
       "Synced 6 W&B file(s), 0 media file(s), 1 artifact file(s) and 0 other file(s)\n",
       "<br/>Synced <strong style=\"color:#cdcd00\">linear__toxic-comment-preprocessed</strong>: <a href=\"https://wandb.ai/sashnevskiy/Jigsaw/runs/1w01mp2e\" target=\"_blank\">https://wandb.ai/sashnevskiy/Jigsaw/runs/1w01mp2e</a><br/>\n",
       "Find logs at: <code>./wandb/run-20220207_145325-1w01mp2e/logs</code><br/>\n"
      ],
      "text/plain": [
       "<IPython.core.display.HTML object>"
      ]
     },
     "metadata": {},
     "output_type": "display_data"
    },
    {
     "data": {
      "text/plain": [
       "0.7051256679200475"
      ]
     },
     "execution_count": 39,
     "metadata": {},
     "output_type": "execute_result"
    }
   ],
   "source": [
    "linear_train(cfg, train_df, val_df)"
   ]
  },
  {
   "cell_type": "code",
   "execution_count": null,
   "id": "d0cd9c5a",
   "metadata": {},
   "outputs": [],
   "source": [
    "#0.677\n",
    "#0.69"
   ]
  },
  {
   "cell_type": "code",
   "execution_count": null,
   "id": "c550819e",
   "metadata": {},
   "outputs": [],
   "source": [
    "# best_glove: 840B_300d\n",
    "# best_fasttext: model_300_5"
   ]
  },
  {
   "cell_type": "code",
   "execution_count": 44,
   "id": "e90b0e47",
   "metadata": {},
   "outputs": [],
   "source": [
    "import lightgbm\n",
    "from jigsaw.utils.fast_text import convert_fasttext_to_features\n",
    "from jigsaw.utils.glove import load_glove, convert_glove_to_features"
   ]
  },
  {
   "cell_type": "code",
   "execution_count": 63,
   "id": "9ed2d156",
   "metadata": {},
   "outputs": [
    {
     "name": "stderr",
     "output_type": "stream",
     "text": [
      "Warning : `load_model` does not return WordVectorModel or SupervisedModel any more, but a `FastText` object which is very similar.\n"
     ]
    },
    {
     "data": {
      "application/vnd.jupyter.widget-view+json": {
       "model_id": "74fa92abab0d489d9d388f7e5c703502",
       "version_major": 2,
       "version_minor": 0
      },
      "text/plain": [
       "converting fasttext to features:   0%|          | 0/159534 [00:00<?, ?it/s]"
      ]
     },
     "metadata": {},
     "output_type": "display_data"
    }
   ],
   "source": [
    "# emmbed_dict = load_glove(cfg.emb_path)\n",
    "X = convert_fasttext_to_features(train_df['comment_text'], cfg.emb_path)\n",
    "# X = convert_glove_to_features(train_df['comment_text'], emmbed_dict)"
   ]
  },
  {
   "cell_type": "code",
   "execution_count": 64,
   "id": "e72c8ce6",
   "metadata": {},
   "outputs": [
    {
     "name": "stderr",
     "output_type": "stream",
     "text": [
      "Warning : `load_model` does not return WordVectorModel or SupervisedModel any more, but a `FastText` object which is very similar.\n"
     ]
    },
    {
     "data": {
      "application/vnd.jupyter.widget-view+json": {
       "model_id": "b12bac191d5e471cbddce7d0c2e71da7",
       "version_major": 2,
       "version_minor": 0
      },
      "text/plain": [
       "converting fasttext to features:   0%|          | 0/10106 [00:00<?, ?it/s]"
      ]
     },
     "metadata": {},
     "output_type": "display_data"
    },
    {
     "name": "stderr",
     "output_type": "stream",
     "text": [
      "Warning : `load_model` does not return WordVectorModel or SupervisedModel any more, but a `FastText` object which is very similar.\n"
     ]
    },
    {
     "data": {
      "application/vnd.jupyter.widget-view+json": {
       "model_id": "8b0de1e1f4904988b1bdb2f4258277e8",
       "version_major": 2,
       "version_minor": 0
      },
      "text/plain": [
       "converting fasttext to features:   0%|          | 0/10106 [00:00<?, ?it/s]"
      ]
     },
     "metadata": {},
     "output_type": "display_data"
    }
   ],
   "source": [
    "X_less = convert_fasttext_to_features(\n",
    "    val_df['less_toxic'],\n",
    "    cfg.emb_path\n",
    ")\n",
    "\n",
    "X_more = convert_fasttext_to_features(\n",
    "    val_df['more_toxic'],\n",
    "    cfg.emb_path\n",
    ")"
   ]
  },
  {
   "cell_type": "code",
   "execution_count": 76,
   "id": "d2cb531d",
   "metadata": {},
   "outputs": [
    {
     "data": {
      "text/plain": [
       "0.7225410647140312"
      ]
     },
     "execution_count": 76,
     "metadata": {},
     "output_type": "execute_result"
    }
   ],
   "source": [
    "reg = lightgbm.LGBMRegressor(\n",
    "    n_estimators = 350,\n",
    "    learning_rate = 0.1\n",
    ")\n",
    "reg.fit(X, train_df['y'].values*100)\n",
    "less_toxic_y = reg.predict(X_less)\n",
    "more_toxic_y = reg.predict(X_more)\n",
    "(more_toxic_y > less_toxic_y).mean()"
   ]
  },
  {
   "cell_type": "code",
   "execution_count": 66,
   "id": "d776cdfa",
   "metadata": {},
   "outputs": [],
   "source": [
    "!mkdir ../models/gbm/fasttext"
   ]
  },
  {
   "cell_type": "code",
   "execution_count": 67,
   "id": "22aa121e",
   "metadata": {},
   "outputs": [
    {
     "data": {
      "text/plain": [
       "['../models/gbm/fasttext/lgb.pkl']"
      ]
     },
     "execution_count": 67,
     "metadata": {},
     "output_type": "execute_result"
    }
   ],
   "source": [
    "import joblib\n",
    "# save model\n",
    "joblib.dump(reg, '../models/gbm/fasttext/lgb.pkl')"
   ]
  },
  {
   "cell_type": "code",
   "execution_count": 68,
   "id": "9de4f1da",
   "metadata": {},
   "outputs": [],
   "source": [
    "m = joblib.load('../models/gbm/fasttext/lgb.pkl')"
   ]
  },
  {
   "cell_type": "code",
   "execution_count": 81,
   "id": "81f3c703",
   "metadata": {},
   "outputs": [
    {
     "data": {
      "text/plain": [
       "100.0"
      ]
     },
     "execution_count": 81,
     "metadata": {},
     "output_type": "execute_result"
    }
   ],
   "source": [
    "(train_df['y'].values*100).max()"
   ]
  },
  {
   "cell_type": "code",
   "execution_count": 83,
   "id": "5b3edaa5",
   "metadata": {},
   "outputs": [
    {
     "data": {
      "text/plain": [
       "-3.96228451187367"
      ]
     },
     "execution_count": 83,
     "metadata": {},
     "output_type": "execute_result"
    }
   ],
   "source": [
    "reg.predict(X_less).min()"
   ]
  },
  {
   "cell_type": "code",
   "execution_count": null,
   "id": "36e0320f",
   "metadata": {},
   "outputs": [],
   "source": [
    "0.7292\n",
    "0.7308, 350, 0.1\n",
    "0.7337, 400, 0.1\n",
    "0.7342, 450, 0.1"
   ]
  },
  {
   "cell_type": "code",
   "execution_count": 84,
   "id": "7be88b9c",
   "metadata": {},
   "outputs": [],
   "source": [
    "import nltk"
   ]
  },
  {
   "cell_type": "code",
   "execution_count": null,
   "id": "3dff4d95",
   "metadata": {},
   "outputs": [
    {
     "name": "stdout",
     "output_type": "stream",
     "text": [
      "showing info https://raw.githubusercontent.com/nltk/nltk_data/gh-pages/index.xml\n"
     ]
    }
   ],
   "source": [
    "nltk.download()"
   ]
  },
  {
   "cell_type": "code",
   "execution_count": 1,
   "id": "2b384f85",
   "metadata": {},
   "outputs": [
    {
     "name": "stdout",
     "output_type": "stream",
     "text": [
      "CNN_train.ipynb      RNN_train.ipynb      tokenizer.pickle\r\n",
      "Dataset_gen.ipynb    RoBerta_train.ipynb  \u001b[1m\u001b[36mtokenizer_unitary\u001b[m\u001b[m/\r\n",
      "EDA.ipynb            \u001b[1m\u001b[36mlightning_logs\u001b[m\u001b[m/      \u001b[1m\u001b[36mwandb\u001b[m\u001b[m/\r\n",
      "Linear.ipynb         \u001b[1m\u001b[36mmodels\u001b[m\u001b[m/\r\n"
     ]
    }
   ],
   "source": [
    "ls"
   ]
  },
  {
   "cell_type": "code",
   "execution_count": 2,
   "id": "54e6f816",
   "metadata": {},
   "outputs": [],
   "source": [
    "import requests"
   ]
  },
  {
   "cell_type": "code",
   "execution_count": 12,
   "id": "766e4b68",
   "metadata": {},
   "outputs": [],
   "source": [
    "r = requests.get('http://localhost:8080/api/data/test')"
   ]
  },
  {
   "cell_type": "code",
   "execution_count": 13,
   "id": "a39ff951",
   "metadata": {},
   "outputs": [
    {
     "data": {
      "text/plain": [
       "{'X-Content-Type-Options': 'nosniff', 'X-XSS-Protection': '1; mode=block', 'Cache-Control': 'no-cache, no-store, max-age=0, must-revalidate', 'Pragma': 'no-cache', 'Expires': '0', 'X-Frame-Options': 'DENY', 'Content-Length': '0', 'Date': 'Tue, 08 Feb 2022 12:27:19 GMT', 'Keep-Alive': 'timeout=60', 'Connection': 'keep-alive'}"
      ]
     },
     "execution_count": 13,
     "metadata": {},
     "output_type": "execute_result"
    }
   ],
   "source": [
    "r.headers"
   ]
  },
  {
   "cell_type": "code",
   "execution_count": null,
   "id": "3c035f55",
   "metadata": {},
   "outputs": [],
   "source": []
  }
 ],
 "metadata": {
  "kernelspec": {
   "display_name": "Python 3",
   "language": "python",
   "name": "python3"
  },
  "language_info": {
   "codemirror_mode": {
    "name": "ipython",
    "version": 3
   },
   "file_extension": ".py",
   "mimetype": "text/x-python",
   "name": "python",
   "nbconvert_exporter": "python",
   "pygments_lexer": "ipython3",
   "version": "3.8.12"
  }
 },
 "nbformat": 4,
 "nbformat_minor": 5
}
