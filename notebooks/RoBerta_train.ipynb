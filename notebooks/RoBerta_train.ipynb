{
  "cells": [
    {
      "cell_type": "code",
      "execution_count": 18,
      "metadata": {
        "id": "AuoivFqZTXyT"
      },
      "outputs": [],
      "source": [
        "import sys\n",
        "sys.path.append('../')\n",
        "\n",
        "from jigsaw.datasets import (\n",
        "    PairedDataset, RegressionDataset, \n",
        "    get_paired_loader, get_regression_loader\n",
        ")\n",
        "from jigsaw.deep_models.lightning_models import RegressionModel\n",
        "\n",
        "from pytorch_lightning import LightningDataModule, LightningModule\n",
        "from pytorch_lightning.utilities.seed import seed_everything\n",
        "from pytorch_lightning.callbacks.early_stopping import EarlyStopping\n",
        "from pytorch_lightning.loggers import WandbLogger\n",
        "from pytorch_lightning import callbacks\n",
        "import pytorch_lightning as pl\n",
        "\n",
        "from transformers import AutoTokenizer\n",
        "import torch.optim as optim\n",
        "\n",
        "from functools import partial\n",
        "from collections import defaultdict\n",
        "from tqdm import tqdm\n",
        "from box import Box\n",
        "import pandas as pd\n",
        "import numpy as np\n",
        "import warnings\n",
        "import wandb\n",
        "import os\n",
        "\n",
        "warnings.filterwarnings(\"ignore\")"
      ]
    },
    {
      "cell_type": "code",
      "execution_count": 3,
      "metadata": {
        "colab": {
          "base_uri": "https://localhost:8080/"
        },
        "id": "bMxyOcqgCSUP",
        "outputId": "8900a1e8-7277-4eb6-fbd1-ce328e8cdf1d"
      },
      "outputs": [
        {
          "name": "stderr",
          "output_type": "stream",
          "text": [
            "\u001b[34m\u001b[1mwandb\u001b[0m: Currently logged in as: \u001b[33msashnevskiy\u001b[0m (use `wandb login --relogin` to force relogin)\n"
          ]
        },
        {
          "data": {
            "text/plain": [
              "True"
            ]
          },
          "execution_count": 3,
          "metadata": {},
          "output_type": "execute_result"
        }
      ],
      "source": [
        "wandb.login()"
      ]
    },
    {
      "cell_type": "code",
      "execution_count": 4,
      "metadata": {
        "id": "5cD-cOaf0mH2"
      },
      "outputs": [],
      "source": [
        "regression_data_raw = pd.read_csv('data/jigsaw-regression/train_data_version1.csv') \n",
        "\n",
        "regression_data_postprocess = pd.read_csv('data/jigsaw-regression/train_data_version2.csv')#пока не очень информативно\n",
        "regression_data_postprocess.drop_duplicates(subset = ['text', 'y'], inplace = True)\n",
        "\n",
        "competition_data = pd.read_csv('data/jigsaw-rate-severity/validation_data.csv')\n",
        "competition_data.drop_duplicates(subset = ['less_toxic', 'more_toxic'], inplace = True)\n",
        "\n",
        "rudit_data = pd.read_csv('data/ruddit/Dataset/ruddit_with_text.csv')\n",
        "toxic_comment_data = pd.read_csv('data/jigsaw-toxic-comment/train.csv') #вроде норм"
      ]
    },
    {
      "cell_type": "code",
      "execution_count": 5,
      "metadata": {
        "id": "P3FywTT4G8yo"
      },
      "outputs": [],
      "source": [
        "data_dict = {\n",
        "    'regression_postprocess': regression_data_postprocess,\n",
        "    'regression_raw': regression_data_raw,\n",
        "    'competition_data': competition_data,\n",
        "    'rudit_data': rudit_data,\n",
        "    'toxic_comment_data': toxic_comment_data\n",
        "}"
      ]
    },
    {
      "cell_type": "code",
      "execution_count": 6,
      "metadata": {
        "id": "-1St3zpjAsc7"
      },
      "outputs": [],
      "source": [
        "cfg = {\n",
        "    'seed': 42,\n",
        "    'logger': {\n",
        "        'save_dir': 'models',\n",
        "        'project': 'Jigsaw',\n",
        "        'log_model': True,\n",
        "    },\n",
        "    'dataset': {\n",
        "        'type': 'paired', #paired, regression\n",
        "        'name': 'regression_postprocess',\n",
        "        'more_toxic_col': 'more_toxic',\n",
        "        'less_toxic_col': 'less_toxic'\n",
        "    },  \n",
        "    'model_name': 'roberta-base',\n",
        "    'max_length': 128,\n",
        "    'batch_size': 16,\n",
        "    'acc_step': 1,\n",
        "    'epoch': 5,\n",
        "    'num_classes': 1,\n",
        "    'margin': 0.5,\n",
        "    'optimizer':{\n",
        "        'name': 'optim.AdamW',\n",
        "        'params':{\n",
        "            'lr': 1e-5,\n",
        "            'weight_decay': 1e-5,\n",
        "        },\n",
        "    },\n",
        "    'scheduler':{\n",
        "        'name': 'get_cosine_schedule_with_warmup',\n",
        "        'params':{\n",
        "            'num_warmup_steps': 0.06\n",
        "        },\n",
        "    },\n",
        "    'trainer': {\n",
        "        'gpus': 1,\n",
        "        'auto_lr_find': False,\n",
        "        'progress_bar_refresh_rate': 3,\n",
        "        'fast_dev_run': False,\n",
        "        'num_sanity_val_steps': 2,\n",
        "        #'overfit_batches': 1,\n",
        "        'resume_from_checkpoint': None,\n",
        "    }\n",
        "}\n",
        "\n",
        "cfg = Box(cfg)\n",
        "cfg['tokenizer'] = AutoTokenizer.from_pretrained(cfg['model_name'])"
      ]
    },
    {
      "cell_type": "code",
      "execution_count": 7,
      "metadata": {
        "colab": {
          "base_uri": "https://localhost:8080/"
        },
        "id": "3W-HnCw_AsfG",
        "outputId": "9758f91c-c417-4b28-dfa6-0fe95252de55"
      },
      "outputs": [
        {
          "name": "stderr",
          "output_type": "stream",
          "text": [
            "Global seed set to 42\n"
          ]
        },
        {
          "data": {
            "text/plain": [
              "42"
            ]
          },
          "execution_count": 7,
          "metadata": {},
          "output_type": "execute_result"
        }
      ],
      "source": [
        "seed_everything(cfg.seed)"
      ]
    },
    {
      "cell_type": "code",
      "execution_count": 8,
      "metadata": {
        "id": "nM-IBJ520wXU"
      },
      "outputs": [],
      "source": [
        "cfg.dataset.type = 'regression'\n",
        "cfg.dataset.text_col = 'text'\n",
        "cfg.dataset.target_col = 'y'"
      ]
    },
    {
      "cell_type": "code",
      "execution_count": null,
      "metadata": {
        "id": "9dE9hQ9MssSH"
      },
      "outputs": [],
      "source": [
        "model = RegressionModel(cfg, data_dict[cfg.dataset.name], competition_data)"
      ]
    },
    {
      "cell_type": "code",
      "execution_count": 10,
      "metadata": {
        "id": "RY1b6aJv1Dqf"
      },
      "outputs": [],
      "source": [
        "earystopping = EarlyStopping(monitor=\"val_acc\", patience = 2)\n",
        "lr_monitor = callbacks.LearningRateMonitor()\n",
        "loss_checkpoint = callbacks.ModelCheckpoint(\n",
        "      dirpath = os.path.join(cfg.logger.save_dir, cfg.model_name, cfg.dataset.name),\n",
        "      filename=f\"{cfg.model_name}\",\n",
        "      monitor=\"val_acc\",\n",
        "      save_top_k=1,\n",
        "      mode=\"max\",\n",
        "      save_last=False,\n",
        "      )\n",
        "wandb_logger = WandbLogger(\n",
        "      log_model = True,\n",
        "      )"
      ]
    },
    {
      "cell_type": "code",
      "execution_count": null,
      "metadata": {
        "id": "g_urisdo2EgY"
      },
      "outputs": [],
      "source": [
        "wandb.init(project = cfg.logger.project, name = f'{cfg.model_name}_{cfg.dataset.name}')\n",
        "wandb.define_metric(\"val_acc\", summary=\"max\")\n",
        "wandb.define_metric(\"val_loss\", summary=\"min\")\n",
        "\n",
        "trainer = pl.Trainer(\n",
        "      max_epochs=cfg.epoch,\n",
        "      logger = wandb_logger,\n",
        "      callbacks=[\n",
        "            lr_monitor, \n",
        "            loss_checkpoint, \n",
        "            earystopping\n",
        "            ],\n",
        "      deterministic=True,\n",
        "      **cfg.trainer,\n",
        "      )\n",
        "  \n",
        "trainer.fit(model)"
      ]
    }
  ],
  "metadata": {
    "accelerator": "GPU",
    "colab": {
      "collapsed_sections": [],
      "name": "BERT.ipynb",
      "provenance": []
    },
    "kernelspec": {
      "display_name": "Python 3",
      "name": "python3"
    },
    "language_info": {
      "name": "python"
    }
  },
  "nbformat": 4,
  "nbformat_minor": 0
}
